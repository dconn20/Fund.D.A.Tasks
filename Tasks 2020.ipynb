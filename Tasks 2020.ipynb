{
 "cells": [
  {
   "cell_type": "markdown",
   "metadata": {},
   "source": [
    "TASKS 2020\n",
    "\n",
    "Damien Connolly\n",
    "G00340321\n",
    "\n",
    "Task 1 - Counts\n",
    "\n",
    "Write a Python function that takes a list as input and returns a \n",
    "dictionary of unique items in the list as keys and the number of \n",
    "times each item appears as values."
   ]
  },
  {
   "cell_type": "code",
   "execution_count": 69,
   "metadata": {},
   "outputs": [
    {
     "name": "stdout",
     "output_type": "stream",
     "text": [
      "{'A': 3}\n",
      "{'A': 3}\n",
      "{'A': 3, 'B': 1}\n",
      "{'A': 3, 'B': 1}\n",
      "{'A': 3, 'B': 1, 'C': 1}\n"
     ]
    }
   ],
   "source": [
    "list = ['A', 'A', 'B', 'A', 'C']\n",
    "\n",
    "dic = {}\n",
    "for item in list:\n",
    "    dic[item] = list.count(item)\n",
    "    print (dic)"
   ]
  },
  {
   "cell_type": "code",
   "execution_count": null,
   "metadata": {},
   "outputs": [],
   "source": []
  }
 ],
 "metadata": {
  "kernelspec": {
   "display_name": "Python 3",
   "language": "python",
   "name": "python3"
  },
  "language_info": {
   "codemirror_mode": {
    "name": "ipython",
    "version": 3
   },
   "file_extension": ".py",
   "mimetype": "text/x-python",
   "name": "python",
   "nbconvert_exporter": "python",
   "pygments_lexer": "ipython3",
   "version": "3.8.3"
  }
 },
 "nbformat": 4,
 "nbformat_minor": 4
}
