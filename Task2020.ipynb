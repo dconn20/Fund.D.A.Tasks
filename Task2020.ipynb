{
 "cells": [
  {
   "cell_type": "markdown",
   "metadata": {},
   "source": [
    "TASKS 2020\n",
    "\n",
    "Damien Connolly\n",
    "G00340321\n",
    "\n",
    "Task 1 - Counts\n",
    "\n",
    "Write a Python function that takes a list as input and returns a \n",
    "dictionary of unique items in the list as keys and the number of \n",
    "times each item appears as values.\n",
    "\n",
    "\n",
    "Ref:\n",
    "https://www.geeksforgeeks.org/counting-the-frequencies-in-a-list-using-dictionary-in-python/\n",
    "\n",
    "https://docs.python.org/3/tutorial/controlflow.html\n",
    "\n"
   ]
  },
  {
   "cell_type": "code",
   "execution_count": 101,
   "metadata": {},
   "outputs": [
    {
     "data": {
      "text/plain": [
       "{'A': 3, 'B': 1, 'C': 1}"
      ]
     },
     "execution_count": 101,
     "metadata": {},
     "output_type": "execute_result"
    }
   ],
   "source": [
    "list = ['A', 'A', 'B', 'A', 'C']\n",
    "\n",
    "def counts():\n",
    "\n",
    "    dict = {}\n",
    "    for item in list:\n",
    "        dict[item] = list.count(item)\n",
    "    return dict\n",
    "        \n",
    "    \n",
    "    for key, value in dict.items(): \n",
    "        print (dict)\n",
    "    \n",
    "counts()"
   ]
  },
  {
   "cell_type": "code",
   "execution_count": 102,
   "metadata": {},
   "outputs": [
    {
     "data": {
      "text/plain": [
       "{'C': 2, 'B': 1, 'A': 1, 'D': 1}"
      ]
     },
     "execution_count": 102,
     "metadata": {},
     "output_type": "execute_result"
    }
   ],
   "source": [
    "list = ['C', 'C', 'B', 'A', 'D']\n",
    "\n",
    "def counts():\n",
    "\n",
    "    dict = {}\n",
    "    for item in list:\n",
    "        dict[item] = list.count(item)\n",
    "    return dict\n",
    "        \n",
    "    \n",
    "    for key, value in dict.items(): \n",
    "        print (dict)\n",
    "    \n",
    "counts()"
   ]
  },
  {
   "cell_type": "code",
   "execution_count": 103,
   "metadata": {},
   "outputs": [
    {
     "data": {
      "text/plain": [
       "{'G': 1, 'R': 3, 'B': 1, 'T': 1, 'W': 2}"
      ]
     },
     "execution_count": 103,
     "metadata": {},
     "output_type": "execute_result"
    }
   ],
   "source": [
    "list = ['G', 'R', 'B', 'R', 'R', 'T', 'W', 'W']\n",
    "\n",
    "def counts():\n",
    "\n",
    "    dict = {}\n",
    "    for item in list:\n",
    "        dict[item] = list.count(item)\n",
    "    return dict\n",
    "        \n",
    "    \n",
    "    for key, value in dict.items(): \n",
    "        print (dict)\n",
    "    \n",
    "counts()"
   ]
  },
  {
   "cell_type": "code",
   "execution_count": null,
   "metadata": {},
   "outputs": [],
   "source": []
  }
 ],
 "metadata": {
  "kernelspec": {
   "display_name": "Python 3",
   "language": "python",
   "name": "python3"
  },
  "language_info": {
   "codemirror_mode": {
    "name": "ipython",
    "version": 3
   },
   "file_extension": ".py",
   "mimetype": "text/x-python",
   "name": "python",
   "nbconvert_exporter": "python",
   "pygments_lexer": "ipython3",
   "version": "3.8.3"
  }
 },
 "nbformat": 4,
 "nbformat_minor": 4
}
