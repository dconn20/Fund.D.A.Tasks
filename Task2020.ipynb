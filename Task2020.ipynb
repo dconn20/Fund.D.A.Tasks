{
 "cells": [
  {
   "cell_type": "markdown",
   "metadata": {},
   "source": [
    "# TASKS 2020\n",
    "\n",
    "#### Damien Connolly\n",
    "#### G00340321"
   ]
  },
  {
   "cell_type": "code",
   "execution_count": 2,
   "metadata": {},
   "outputs": [],
   "source": [
    "import numpy as np\n",
    "import seaborn as sns"
   ]
  },
  {
   "cell_type": "markdown",
   "metadata": {},
   "source": [
    "## Task 1 - Counts\n",
    "\n",
    "Write a Python function that takes a list as input and returns a \n",
    "dictionary of unique items in the list as keys and the number of \n",
    "times each item appears as values.\n",
    "\n",
    "\n",
    "I decided to iterate over the list and use each distinct element of the list as a key of the dictionary and store the corresponding count of that key as values. \n",
    "\n",
    "\n",
    "Ref:\n",
    "[1]. https://www.geeksforgeeks.org/counting-the-frequencies-in-a-list-using-dictionary-in-python/\n",
    "\n",
    "[2]. https://docs.python.org/3/tutorial/controlflow.html"
   ]
  },
  {
   "cell_type": "code",
   "execution_count": 101,
   "metadata": {},
   "outputs": [
    {
     "data": {
      "text/plain": [
       "{'A': 3, 'B': 1, 'C': 1}"
      ]
     },
     "execution_count": 101,
     "metadata": {},
     "output_type": "execute_result"
    }
   ],
   "source": [
    "list = ['A', 'A', 'B', 'A', 'C']\n",
    "\n",
    "def counts():\n",
    "\n",
    "    dict = {}\n",
    "    for item in list:\n",
    "        dict[item] = list.count(item)\n",
    "    return dict\n",
    "        \n",
    "    \n",
    "    for key, value in dict.items(): \n",
    "        print (dict)\n",
    "    \n",
    "counts()"
   ]
  },
  {
   "cell_type": "code",
   "execution_count": 4,
   "metadata": {},
   "outputs": [
    {
     "data": {
      "text/plain": [
       "{'C': 2, 'B': 1, 'A': 1, 'D': 1}"
      ]
     },
     "execution_count": 4,
     "metadata": {},
     "output_type": "execute_result"
    }
   ],
   "source": [
    "list = ['C', 'C', 'B', 'A', 'D']\n",
    "\n",
    "def counts():\n",
    "\n",
    "    dict = {}\n",
    "    for item in list:\n",
    "        dict[item] = list.count(item)\n",
    "    return dict\n",
    "        \n",
    "    \n",
    "    for key, value in dict.items(): \n",
    "        print (dict)\n",
    "    \n",
    "counts()"
   ]
  },
  {
   "cell_type": "code",
   "execution_count": 103,
   "metadata": {},
   "outputs": [
    {
     "data": {
      "text/plain": [
       "{'G': 1, 'R': 3, 'B': 1, 'T': 1, 'W': 2}"
      ]
     },
     "execution_count": 103,
     "metadata": {},
     "output_type": "execute_result"
    }
   ],
   "source": [
    "list = ['G', 'R', 'B', 'R', 'R', 'T', 'W', 'W']\n",
    "\n",
    "def counts():\n",
    "\n",
    "    dict = {}\n",
    "    for item in list:\n",
    "        dict[item] = list.count(item)\n",
    "    return dict\n",
    "        \n",
    "    \n",
    "    for key, value in dict.items(): \n",
    "        print (dict)\n",
    "    \n",
    "counts()"
   ]
  },
  {
   "cell_type": "markdown",
   "metadata": {},
   "source": [
    "<br/>\n",
    "\n",
    "## Task 2\n",
    "\n",
    "Write a Python function called dicerolls that simulates\n",
    "rolling dice. Your function should take two parameters: the number of dice k and\n",
    "the number of times to roll the dice n. The function should simulate randomly\n",
    "rolling k dice n times, keeping track of each total face value. It should then return\n",
    "a dictionary with the number of times each possible total face value occurred. So,\n",
    "calling the function as diceroll(k=2, n=1000) should return a dictionary like:\n",
    "{2:19,3:50,4:82,5:112,6:135,7:174,8:133,9:114,10:75,11:70,12:36}"
   ]
  },
  {
   "cell_type": "markdown",
   "metadata": {},
   "source": [
    "<br/>\n",
    "**Text for explanation needed**\n",
    "\n",
    "\n",
    "Ref:\n",
    "https://www.codegrepper.com/code-examples/python/dice+rolling+function+python\n",
    "https://careerkarma.com/blog/python-dictionary-get/\n",
    "https://stackoverflow.com/questions/9001509/how-can-i-sort-a-dictionary-by-key\n",
    "https://stackoverflow.com/questions/5844672/delete-an-element-from-a-dictionary"
   ]
  },
  {
   "cell_type": "code",
   "execution_count": 15,
   "metadata": {},
   "outputs": [
    {
     "name": "stdout",
     "output_type": "stream",
     "text": [
      "{12: 178, 11: 176, 10: 169, 9: 152, 8: 165, 7: 166, 6: 177, 5: 175, 4: 168, 3: 151, 2: 164}\n"
     ]
    }
   ],
   "source": [
    "import numpy as np\n",
    "\n",
    "def dicerolls(k,n):\n",
    "    \n",
    "    # Set variables\n",
    "    roll = n\n",
    "    noroll = 0\n",
    "    dicevalue = k * 6\n",
    "    \n",
    "    # Use list to store dice\n",
    "    dice = []\n",
    "    for i in range(k):\n",
    "        dice.append(i+1)\n",
    "    \n",
    "    # Dictionary to store result\n",
    "    dict = {}\n",
    "   \n",
    "    while dicevalue > 0:\n",
    "        dict[dicevalue] = 0\n",
    "        dicevalue -= 1\n",
    "        \n",
    "    # Roll the dice    \n",
    "    while roll > 0:\n",
    "        diceroll = np.random.randint(1,7)\n",
    "        for i in dice:\n",
    "            result = (diceroll + noroll)\n",
    "            dicevalue = dict.get(diceroll)\n",
    "            dict[result] = dicevalue + 1\n",
    "            noroll += 6\n",
    "        roll -= 1\n",
    "        noroll = 0\n",
    "        \n",
    "    # Remove 1 from dict output    \n",
    "    del dict[1]\n",
    "    \n",
    "    print(dict)\n",
    "        \n",
    "dicerolls(2,1000)"
   ]
  },
  {
   "cell_type": "code",
   "execution_count": 12,
   "metadata": {},
   "outputs": [
    {
     "data": {
      "text/plain": [
       "[array([3, 5]), array([3, 2]), array([4, 3]), array([3, 3])]"
      ]
     },
     "execution_count": 12,
     "metadata": {},
     "output_type": "execute_result"
    }
   ],
   "source": [
    "# Needs work, trying alternative options\n",
    "\n",
    "import numpy as np\n",
    "\n",
    "def dicerolls(k,n):\n",
    "\n",
    "    dice = [2, 3, 4, 5, 6]\n",
    "    \n",
    "    dict = {}\n",
    "    #dicevaule = 0\n",
    "    \n",
    "    for i in range(k):\n",
    "        diceroll = [np.random.choice(dice, k) for i in range(n)]\n",
    "        result = (diceroll)\n",
    "        return result\n",
    "    print(result)\n",
    "\n",
    "dicerolls(2,4)"
   ]
  },
  {
   "cell_type": "markdown",
   "metadata": {},
   "source": [
    "<br/>\n",
    "<br/>\n",
    "\n",
    "## Task 3 - numpy.random.binomial\n",
    "\n",
    "\n",
    "The numpy.random.binomial function can be used to\n",
    "simulate flipping a coin with a 50/50 chance of heads or tails. Interestingly, if a\n",
    "coin is flipped many times then the number of heads is well approximated by a\n",
    "bell-shaped curve. For instance, if we flip a coin 100 times in a row the chance of\n",
    "getting 50 heads is relatively high, the chances of getting 0 or 100 heads is relatively\n",
    "low, and the chances of getting any other number of heads decreases as you move\n",
    "away from 50 in either direction towards 0 or 100. Write some python code that\n",
    "simulates flipping a coin 100 times. Then run this code 1,000 times, keeping track\n",
    "of the number of heads in each of the 1,000 simulations. Select an appropriate\n",
    "plot to depict the resulting list of 1,000 numbers, showing that it roughly follows\n",
    "a bell-shaped curve. You should explain your work in a Markdown cell above the\n",
    "code."
   ]
  },
  {
   "cell_type": "markdown",
   "metadata": {},
   "source": [
    "<br/>\n",
    "\n",
    "Taking the example of a coin toss, there are only two possible outcomes, heads or tails. The probability of getting a heads (success) can be seen as p = 0.5 and the probability of getting a tails (failure) can be seen as q = 1 - p = 0.5. This function can also be used if outcomes are not equal, eg. if the probability of success is p = 0.2 then the probability of failure is q = 1 - 0.2 = 0.8. Each trial is independent since the outcome of the previous toss doesn’t determine or affect the outcome of the current toss.18 The total number of trials can be set using n = 20 and by setting size = 1000 we can run the 20 trials 1000 times and view the outcome.\n",
    "\n",
    "\n",
    "https://www.analyticsvidhya.com/blog/2017/09/6-probability-distributions-data-science/.\n",
    "https://towardsdatascience.com/fun-with-the-binomial-distribution-96a5ecabf65b"
   ]
  },
  {
   "cell_type": "code",
   "execution_count": 3,
   "metadata": {},
   "outputs": [
    {
     "data": {
      "text/plain": [
       "Text(0.5, 0, 'Binomial distribution')"
      ]
     },
     "execution_count": 3,
     "metadata": {},
     "output_type": "execute_result"
    },
    {
     "data": {
      "image/png": "[encoded data removed]",
      "text/plain": [
       "<Figure size 432x288 with 1 Axes>"
      ]
     },
     "metadata": {
      "needs_background": "light"
     },
     "output_type": "display_data"
    }
   ],
   "source": [
    "# Coin toss example which displays binomial distribution. \n",
    "\n",
    "# Number of trials\n",
    "size = 1000\n",
    "# Number of independent coin tosses in each trial\n",
    "n = 20\n",
    "# Probability of success for each experiment\n",
    "p = 0.5\n",
    "\n",
    "# Run the trials\n",
    "bd = np.random.binomial(n, p, size)\n",
    "\n",
    "# Plot the result to show distribution\n",
    "ax = sns.histplot(bd, kde=True, color='red', bins=12)\n",
    "ax.set_xlabel ('Binomial distribution')"
   ]
  },
  {
   "cell_type": "code",
   "execution_count": 4,
   "metadata": {},
   "outputs": [
    {
     "data": {
      "text/plain": [
       "Text(0.5, 0, 'Binomial distribution')"
      ]
     },
     "execution_count": 4,
     "metadata": {},
     "output_type": "execute_result"
    },
    {
     "data": {
      "image/png": "[encoded data removed]",
      "text/plain": [
       "<Figure size 432x288 with 1 Axes>"
      ]
     },
     "metadata": {
      "needs_background": "light"
     },
     "output_type": "display_data"
    }
   ],
   "source": [
    "# Example which displays binomial distribution with unequal probability\n",
    "\n",
    "# Run trials\n",
    "bd = np.random.binomial(20, 0.2, 1000)\n",
    "\n",
    "# Plot distribution\n",
    "ax = sns.histplot(bd, kde=True, color='red', bins=12)\n",
    "ax.set_xlabel ('Binomial distribution')"
   ]
  },
  {
   "cell_type": "code",
   "execution_count": null,
   "metadata": {},
   "outputs": [],
   "source": []
  }
 ],
 "metadata": {
  "kernelspec": {
   "display_name": "Python 3",
   "language": "python",
   "name": "python3"
  },
  "language_info": {
   "codemirror_mode": {
    "name": "ipython",
    "version": 3
   },
   "file_extension": ".py",
   "mimetype": "text/x-python",
   "name": "python",
   "nbconvert_exporter": "python",
   "pygments_lexer": "ipython3",
   "version": "3.8.3"
  }
 },
 "nbformat": 4,
 "nbformat_minor": 4
}
