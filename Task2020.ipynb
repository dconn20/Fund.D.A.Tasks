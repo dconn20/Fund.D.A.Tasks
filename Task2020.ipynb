{
 "cells": [
  {
   "cell_type": "markdown",
   "metadata": {},
   "source": [
    "# TASKS 2020\n",
    "\n",
    "#### Damien Connolly\n",
    "#### G00340321"
   ]
  },
  {
   "cell_type": "markdown",
   "metadata": {},
   "source": [
    "## Task 1 - Counts\n",
    "\n",
    "Write a Python function that takes a list as input and returns a \n",
    "dictionary of unique items in the list as keys and the number of \n",
    "times each item appears as values.\n",
    "\n",
    "\n",
    "I decided to iterate over the list and use each distinct element of the list as a key of the dictionary and store the corresponding count of that key as values. \n",
    "\n",
    "\n",
    "Ref:\n",
    "[1]. https://www.geeksforgeeks.org/counting-the-frequencies-in-a-list-using-dictionary-in-python/\n",
    "\n",
    "[2]. https://docs.python.org/3/tutorial/controlflow.html"
   ]
  },
  {
   "cell_type": "code",
   "execution_count": 101,
   "metadata": {},
   "outputs": [
    {
     "data": {
      "text/plain": [
       "{'A': 3, 'B': 1, 'C': 1}"
      ]
     },
     "execution_count": 101,
     "metadata": {},
     "output_type": "execute_result"
    }
   ],
   "source": [
    "list = ['A', 'A', 'B', 'A', 'C']\n",
    "\n",
    "def counts():\n",
    "\n",
    "    dict = {}\n",
    "    for item in list:\n",
    "        dict[item] = list.count(item)\n",
    "    return dict\n",
    "        \n",
    "    \n",
    "    for key, value in dict.items(): \n",
    "        print (dict)\n",
    "    \n",
    "counts()"
   ]
  },
  {
   "cell_type": "code",
   "execution_count": 4,
   "metadata": {},
   "outputs": [
    {
     "data": {
      "text/plain": [
       "{'C': 2, 'B': 1, 'A': 1, 'D': 1}"
      ]
     },
     "execution_count": 4,
     "metadata": {},
     "output_type": "execute_result"
    }
   ],
   "source": [
    "list = ['C', 'C', 'B', 'A', 'D']\n",
    "\n",
    "def counts():\n",
    "\n",
    "    dict = {}\n",
    "    for item in list:\n",
    "        dict[item] = list.count(item)\n",
    "    return dict\n",
    "        \n",
    "    \n",
    "    for key, value in dict.items(): \n",
    "        print (dict)\n",
    "    \n",
    "counts()"
   ]
  },
  {
   "cell_type": "code",
   "execution_count": 103,
   "metadata": {},
   "outputs": [
    {
     "data": {
      "text/plain": [
       "{'G': 1, 'R': 3, 'B': 1, 'T': 1, 'W': 2}"
      ]
     },
     "execution_count": 103,
     "metadata": {},
     "output_type": "execute_result"
    }
   ],
   "source": [
    "list = ['G', 'R', 'B', 'R', 'R', 'T', 'W', 'W']\n",
    "\n",
    "def counts():\n",
    "\n",
    "    dict = {}\n",
    "    for item in list:\n",
    "        dict[item] = list.count(item)\n",
    "    return dict\n",
    "        \n",
    "    \n",
    "    for key, value in dict.items(): \n",
    "        print (dict)\n",
    "    \n",
    "counts()"
   ]
  },
  {
   "cell_type": "markdown",
   "metadata": {},
   "source": [
    "<br/>\n",
    "\n",
    "## Task 2\n",
    "\n",
    "Write a Python function called dicerolls that simulates\n",
    "rolling dice. Your function should take two parameters: the number of dice k and\n",
    "the number of times to roll the dice n. The function should simulate randomly\n",
    "rolling k dice n times, keeping track of each total face value. It should then return\n",
    "a dictionary with the number of times each possible total face value occurred. So,\n",
    "calling the function as diceroll(k=2, n=1000) should return a dictionary like:\n",
    "{2:19,3:50,4:82,5:112,6:135,7:174,8:133,9:114,10:75,11:70,12:36}\n",
    "\n",
    "\n",
    "\n",
    "\n",
    "\n",
    "\n",
    "Ref:\n",
    "https://www.codegrepper.com/code-examples/python/dice+rolling+function+python\n",
    "https://careerkarma.com/blog/python-dictionary-get/\n",
    "https://stackoverflow.com/questions/9001509/how-can-i-sort-a-dictionary-by-key"
   ]
  },
  {
   "cell_type": "code",
   "execution_count": 165,
   "metadata": {},
   "outputs": [
    {
     "name": "stdout",
     "output_type": "stream",
     "text": [
      "{12: 169, 11: 169, 10: 182, 9: 171, 8: 156, 7: 159, 6: 168, 5: 168, 4: 181, 3: 170, 2: 155, 1: 158}\n"
     ]
    }
   ],
   "source": [
    "import numpy as np\n",
    "\n",
    "def dicerolls(k,n):\n",
    "    \n",
    "    # Set variables\n",
    "    roll = n\n",
    "    noroll = 0\n",
    "    dicevalue = k * 6\n",
    "    \n",
    "    # Use list to store dice\n",
    "    dice = []\n",
    "    for i in range(k):\n",
    "        dice.append(i+1)\n",
    "    \n",
    "    # Dictionary to store result\n",
    "    dict = {}\n",
    "   \n",
    "    while dicevalue > 0:\n",
    "        dict[dicevalue] = 0\n",
    "        dicevalue -= 1\n",
    "        \n",
    "    # Roll the dice    \n",
    "    while roll > 0:\n",
    "        diceroll = np.random.randint(1,7)\n",
    "        for i in dice:\n",
    "            result = (diceroll + noroll)\n",
    "            dicevalue = dict.get(diceroll)\n",
    "            dict[result] = dicevalue + 1\n",
    "            noroll += 6\n",
    "        roll -= 1\n",
    "        noroll = 0\n",
    "        \n",
    "    print(dict)\n",
    "        \n",
    "dicerolls(2,1000)"
   ]
  },
  {
   "cell_type": "code",
   "execution_count": 161,
   "metadata": {},
   "outputs": [
    {
     "data": {
      "text/plain": [
       "[array([4, 4]), array([4, 4]), array([4, 5]), array([6, 4])]"
      ]
     },
     "execution_count": 161,
     "metadata": {},
     "output_type": "execute_result"
    }
   ],
   "source": [
    "import numpy as np\n",
    "\n",
    "def dicerolls(k,n):\n",
    "\n",
    "    dice = [2, 3, 4, 5, 6]\n",
    "\n",
    "    for i in range(k):\n",
    "        diceroll = [np.random.choice(dice, k) for i in range(n)]\n",
    "        result = (diceroll)\n",
    "        return result\n",
    "    print(result)\n",
    "\n",
    "dicerolls(2,4)"
   ]
  },
  {
   "cell_type": "markdown",
   "metadata": {},
   "source": [
    "<br/>\n",
    "<br/>\n",
    "\n",
    "## Task 3 - numpy.random.binomial\n",
    "\n",
    "\n",
    "The numpy.random.binomial function can be used to\n",
    "simulate flipping a coin with a 50/50 chance of heads or tails. Interestingly, if a\n",
    "coin is flipped many times then the number of heads is well approximated by a\n",
    "bell-shaped curve. For instance, if we flip a coin 100 times in a row the chance of\n",
    "getting 50 heads is relatively high, the chances of getting 0 or 100 heads is relatively\n",
    "low, and the chances of getting any other number of heads decreases as you move\n",
    "away from 50 in either direction towards 0 or 100. Write some python code that\n",
    "simulates flipping a coin 100 times. Then run this code 1,000 times, keeping track\n",
    "of the number of heads in each of the 1,000 simulations. Select an appropriate\n",
    "plot to depict the resulting list of 1,000 numbers, showing that it roughly follows\n",
    "a bell-shaped curve. You should explain your work in a Markdown cell above the\n",
    "code."
   ]
  },
  {
   "cell_type": "markdown",
   "metadata": {},
   "source": [
    "Explanation + References\n",
    "\n",
    "https://towardsdatascience.com/fun-with-the-binomial-distribution-96a5ecabf65b"
   ]
  },
  {
   "cell_type": "code",
   "execution_count": 11,
   "metadata": {},
   "outputs": [
    {
     "name": "stderr",
     "output_type": "stream",
     "text": [
      "C:\\Users\\damie\\anaconda3\\lib\\site-packages\\seaborn\\distributions.py:2551: FutureWarning: `distplot` is a deprecated function and will be removed in a future version. Please adapt your code to use either `displot` (a figure-level function with similar flexibility) or `histplot` (an axes-level function for histograms).\n",
      "  warnings.warn(msg, FutureWarning)\n"
     ]
    },
    {
     "data": {
      "text/plain": [
       "Text(0, 0.5, 'Frequency')"
      ]
     },
     "execution_count": 11,
     "metadata": {},
     "output_type": "execute_result"
    },
    {
     "data": {
      "image/png": "[encoded data removed]",
      "text/plain": [
       "<Figure size 1008x504 with 1 Axes>"
      ]
     },
     "metadata": {
      "needs_background": "light"
     },
     "output_type": "display_data"
    }
   ],
   "source": [
    "import numpy as np\n",
    "import matplotlib.pyplot as plt\n",
    "import seaborn as sns\n",
    "\n",
    "# number of simulations\n",
    "trials = 1000\n",
    "\n",
    "# number of flips\n",
    "n = 100\n",
    "\n",
    "# Probability of success\n",
    "p = 0.5\n",
    "\n",
    "# Function that runs our coin toss trials\n",
    "# Heads is a list of the number of successes from each trial\n",
    "def binom(trials, n, p):\n",
    "    heads = []\n",
    "    for i in range(trials):\n",
    "        tosses = [np.random.random() for i in range(n)]\n",
    "        heads.append(len([i for i in tosses if i>=0.50]))\n",
    "    return heads\n",
    "\n",
    "binom(trials, n, p)\n",
    "\n",
    "# Plot the results \n",
    "fig, ax = plt.subplots(figsize=(14,7))\n",
    "ax = sns.distplot(heads, bins=11, label='simulation results')\n",
    "ax.set_xlabel(\"Number of Heads\",fontsize=16)\n",
    "ax.set_ylabel(\"Frequency\",fontsize=16)\n"
   ]
  },
  {
   "cell_type": "code",
   "execution_count": null,
   "metadata": {},
   "outputs": [],
   "source": []
  }
 ],
 "metadata": {
  "kernelspec": {
   "display_name": "Python 3",
   "language": "python",
   "name": "python3"
  },
  "language_info": {
   "codemirror_mode": {
    "name": "ipython",
    "version": 3
   },
   "file_extension": ".py",
   "mimetype": "text/x-python",
   "name": "python",
   "nbconvert_exporter": "python",
   "pygments_lexer": "ipython3",
   "version": "3.8.3"
  }
 },
 "nbformat": 4,
 "nbformat_minor": 4
}
